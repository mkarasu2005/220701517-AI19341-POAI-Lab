{
  "nbformat": 4,
  "nbformat_minor": 0,
  "metadata": {
    "colab": {
      "provenance": []
    },
    "kernelspec": {
      "name": "python3",
      "display_name": "Python 3"
    },
    "language_info": {
      "name": "python"
    }
  },
  "cells": [
    {
      "cell_type": "code",
      "execution_count": null,
      "metadata": {
        "colab": {
          "base_uri": "https://localhost:8080/"
        },
        "id": "QqDwzFtoZOlH",
        "outputId": "19a1ae14-8e8d-44ae-e0e5-2fffb321e9aa"
      },
      "outputs": [
        {
          "output_type": "stream",
          "name": "stdout",
          "text": [
            "The index of 30 is 2.\n"
          ]
        }
      ],
      "source": [
        "\n",
        "my_list = [10, 20, 30, 40, 50]\n",
        "\n",
        "\n",
        "element_to_find = 30\n",
        "\n",
        "\n",
        "if element_to_find in my_list:\n",
        "    index = my_list.index(element_to_find)\n",
        "    print(f\"The index of {element_to_find} is {index}.\")\n",
        "else:\n",
        "    print(f\"{element_to_find} is not in the list.\")\n",
        "\n"
      ]
    },
    {
      "cell_type": "code",
      "source": [
        "a=10\n",
        "b=20\n",
        "if(a>b):\n",
        "  print(f\"{a} is greater than {b}\")\n",
        "elif(b>a):\n",
        "  print(f\"{b} is greater than {a}\")\n",
        "else:\n",
        "  print(\"Both are equal\")"
      ],
      "metadata": {
        "colab": {
          "base_uri": "https://localhost:8080/"
        },
        "id": "qKKXBn6Pp9WC",
        "outputId": "02896d2b-3d92-4a9c-f52b-894ccd960372"
      },
      "execution_count": null,
      "outputs": [
        {
          "output_type": "stream",
          "name": "stdout",
          "text": [
            "20 is greater than 10\n"
          ]
        }
      ]
    },
    {
      "cell_type": "code",
      "source": [
        "my_list = [10, 20, 30, 40, 50, 8, 8, 10, 30, 8 ,8]\n",
        "element_to_count = 8\n",
        "\n",
        "count = my_list.count(element_to_count)\n",
        "print(f\"The element {element_to_count} appears {count} times in the list.\")\n"
      ],
      "metadata": {
        "colab": {
          "base_uri": "https://localhost:8080/"
        },
        "id": "Qnt6U0ABY_EC",
        "outputId": "31119272-ae7b-496e-d999-ee893ea50e20"
      },
      "execution_count": 1,
      "outputs": [
        {
          "output_type": "stream",
          "name": "stdout",
          "text": [
            "The element 8 appears 4 times in the list.\n"
          ]
        }
      ]
    },
    {
      "cell_type": "code",
      "source": [
        "def is_palindrome(text):\n",
        "  text = text.lower().replace(\" \", \"\")\n",
        "  return text == text[::-1]\n",
        "\n",
        "text = \"hoh\"\n",
        "\n",
        "if is_palindrome(text):\n",
        "  print(\"It's a palindrome!\")\n",
        "else:\n",
        "  print(\"It's not a palindrome.\")\n"
      ],
      "metadata": {
        "colab": {
          "base_uri": "https://localhost:8080/"
        },
        "id": "KKY30aGIaOgf",
        "outputId": "8d9b8d39-6ee8-4fc6-9d05-63991762acde"
      },
      "execution_count": 4,
      "outputs": [
        {
          "output_type": "stream",
          "name": "stdout",
          "text": [
            "It's a palindrome!\n"
          ]
        }
      ]
    },
    {
      "cell_type": "code",
      "source": [
        "my_list = [10, 20, 30, 40, 50]\n",
        "remove = 30\n",
        "\n",
        "if remove in my_list:\n",
        "  my_list.remove(remove)\n",
        "  print(f\"The element {remove} has been removed from the list.\")\n",
        "  print(\"Updated list:\", my_list)\n",
        "else:\n",
        "  print(f\"The element {remove} is not in the list.\")\n"
      ],
      "metadata": {
        "colab": {
          "base_uri": "https://localhost:8080/"
        },
        "id": "6jQJZWz4g1jT",
        "outputId": "efdc77be-24eb-45cb-ba43-d76fdf294219"
      },
      "execution_count": 5,
      "outputs": [
        {
          "output_type": "stream",
          "name": "stdout",
          "text": [
            "The element 30 has been removed from the list.\n",
            "Updated list: [10, 20, 40, 50]\n"
          ]
        }
      ]
    },
    {
      "cell_type": "code",
      "source": [
        "list1 = [1, 2, 3]\n",
        "list2 = [4, 5, 6]\n",
        "\n",
        "combinedlist = list1 + list2\n",
        "count = len(combinedlist)\n",
        "\n",
        "print(\"Combined list:\", combinedlist)\n",
        "print(\"Count of elements:\", count)\n"
      ],
      "metadata": {
        "colab": {
          "base_uri": "https://localhost:8080/"
        },
        "id": "PnvtGyrnjqrk",
        "outputId": "a282efeb-dca3-4435-848d-81eabc4b80f4"
      },
      "execution_count": 6,
      "outputs": [
        {
          "output_type": "stream",
          "name": "stdout",
          "text": [
            "Combined list: [1, 2, 3, 4, 5, 6]\n",
            "Count of elements: 6\n"
          ]
        }
      ]
    },
    {
      "cell_type": "code",
      "source": [
        "list1 = [1, 2, 3]\n",
        "list2 = [4, 5, 6]\n",
        "\n",
        "result = []\n",
        "for i in range(len(list1)):\n",
        "  result.append(list1[i] + list2[i])\n",
        "\n",
        "print(\"Sum of elements at corresponding positions:\", result)\n"
      ],
      "metadata": {
        "colab": {
          "base_uri": "https://localhost:8080/"
        },
        "id": "cYP_9YSsnSk0",
        "outputId": "52f4f6e4-fdad-4a25-f261-c9b8d3e0fb7f"
      },
      "execution_count": 7,
      "outputs": [
        {
          "output_type": "stream",
          "name": "stdout",
          "text": [
            "Sum of elements at corresponding positions: [5, 7, 9]\n"
          ]
        }
      ]
    },
    {
      "cell_type": "code",
      "source": [
        "list1 = [1, 2, 3]\n",
        "list2 = [4, 5, 6]\n",
        "\n",
        "list1, list2 = list2, list1\n",
        "\n",
        "print(\"List 1:\", list1)\n",
        "print(\"List 2:\", list2)\n"
      ],
      "metadata": {
        "colab": {
          "base_uri": "https://localhost:8080/"
        },
        "id": "qRe5ZYzVofAD",
        "outputId": "4a866b43-1a09-422b-8983-b8855766634d"
      },
      "execution_count": 8,
      "outputs": [
        {
          "output_type": "stream",
          "name": "stdout",
          "text": [
            "List 1: [4, 5, 6]\n",
            "List 2: [1, 2, 3]\n"
          ]
        }
      ]
    },
    {
      "cell_type": "code",
      "source": [
        "my_list = [10, 20, 30, 40, 50]\n",
        "my_list.reverse()\n",
        "print(\"Reversed list:\", my_list)\n"
      ],
      "metadata": {
        "colab": {
          "base_uri": "https://localhost:8080/"
        },
        "id": "BM-QJHARr76G",
        "outputId": "9c364962-7735-4ede-e380-2c3675433e13"
      },
      "execution_count": 9,
      "outputs": [
        {
          "output_type": "stream",
          "name": "stdout",
          "text": [
            "Reversed list: [50, 40, 30, 20, 10]\n"
          ]
        }
      ]
    },
    {
      "cell_type": "code",
      "source": [
        "text = \"This is a sample text.\"\n",
        "vowels = \"aeiouAEIOU\"\n",
        "vowel_count = 0\n",
        "\n",
        "for char in text:\n",
        "  if char in vowels:\n",
        "    vowel_count += 1\n",
        "\n",
        "print(\"Number of vowels:\", vowel_count)\n"
      ],
      "metadata": {
        "colab": {
          "base_uri": "https://localhost:8080/"
        },
        "id": "IKKGKBc6sUct",
        "outputId": "1d21f7b6-dc52-42ea-8065-8502e260152d"
      },
      "execution_count": 10,
      "outputs": [
        {
          "output_type": "stream",
          "name": "stdout",
          "text": [
            "Number of vowels: 6\n"
          ]
        }
      ]
    }
  ]
}